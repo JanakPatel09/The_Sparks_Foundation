{
  "cells": [
    {
      "cell_type": "markdown",
      "metadata": {
        "id": "view-in-github",
        "colab_type": "text"
      },
      "source": [
        "<a href=\"https://colab.research.google.com/github/JanakPatel09/The_Sparks_Foundation/blob/main/Task_1_LinearRegression.ipynb\" target=\"_parent\"><img src=\"https://colab.research.google.com/assets/colab-badge.svg\" alt=\"Open In Colab\"/></a>"
      ]
    },
    {
      "cell_type": "markdown",
      "metadata": {
        "id": "JVtmjyeg6Q6J"
      },
      "source": [
        "#**Author - Janak Patel**\n",
        "##Task 1 - Prediction using Supervised ML\n",
        "##GRIP @ The Sparks Foundation\n",
        "\n",
        "In this task, I am going to predict the percentage of an student based on the no. of study hours."
      ]
    },
    {
      "cell_type": "code",
      "execution_count": null,
      "metadata": {
        "id": "evwB_-ZG71l5"
      },
      "outputs": [],
      "source": [
        "#Importing Libraries\n",
        "import pandas as pd\n",
        "import numpy as np\n",
        "import matplotlib.pyplot as plt\n",
        "from sklearn.linear_model import LinearRegression\n",
        "from sklearn.model_selection import train_test_split"
      ]
    },
    {
      "cell_type": "code",
      "execution_count": null,
      "metadata": {
        "id": "oSM_-gg99cYL"
      },
      "outputs": [],
      "source": [
        "#Load dataset from url\n",
        "dataset = pd.read_csv('http://bit.ly/w-data')"
      ]
    },
    {
      "cell_type": "code",
      "execution_count": null,
      "metadata": {
        "colab": {
          "base_uri": "https://localhost:8080/"
        },
        "id": "34XIf3Vg99u6",
        "outputId": "0408796b-af57-4953-92ef-80bcc264d67a"
      },
      "outputs": [
        {
          "output_type": "stream",
          "name": "stdout",
          "text": [
            "(25, 2)\n",
            "   Hours  Scores\n",
            "0    2.5      21\n",
            "1    5.1      47\n",
            "2    3.2      27\n",
            "3    8.5      75\n",
            "4    3.5      30\n"
          ]
        }
      ],
      "source": [
        "#Load and Summary\n",
        "print(dataset.shape)\n",
        "print(dataset.head())"
      ]
    },
    {
      "cell_type": "code",
      "execution_count": null,
      "metadata": {
        "id": "R-by3dUDJZ-H",
        "colab": {
          "base_uri": "https://localhost:8080/",
          "height": 295
        },
        "outputId": "5bfec9f7-be50-4f29-a255-8021545d4c6a"
      },
      "outputs": [
        {
          "output_type": "display_data",
          "data": {
            "text/plain": [
              "<Figure size 432x288 with 1 Axes>"
            ],
            "image/png": "[encoded data removed]"
          },
          "metadata": {
            "needs_background": "light"
          }
        }
      ],
      "source": [
        "#Visualize the Dataset\n",
        "\n",
        "plt.scatter(dataset.Hours, dataset.Scores, color = 'red', marker = 'o')\n",
        "plt.xlabel('No of hours studies')\n",
        "plt.ylabel('Percentage')\n",
        "plt.title('Hours vs Percentage')\n",
        "plt.show()"
      ]
    },
    {
      "cell_type": "code",
      "source": [
        "#Segregate dataset into Input X and Output Y\n",
        "X = dataset.drop('Scores', axis = 'columns')\n",
        "Y = dataset.Scores\n",
        "#print(X)\n",
        "#print(Y)"
      ],
      "metadata": {
        "id": "X0NwsNooKZYy"
      },
      "execution_count": null,
      "outputs": []
    },
    {
      "cell_type": "code",
      "source": [
        "#Seperate dataset for testing and training\n",
        "\n",
        "x_train, x_test, y_train, y_test = train_test_split(X, Y, test_size=0.2, random_state=0)"
      ],
      "metadata": {
        "id": "t9NzForlLOHh"
      },
      "execution_count": null,
      "outputs": []
    },
    {
      "cell_type": "code",
      "source": [
        "#Training dataset using Linear Regression\n",
        "\n",
        "model = LinearRegression()\n",
        "model.fit(x_train,y_train)\n",
        "print('Training completed.')"
      ],
      "metadata": {
        "colab": {
          "base_uri": "https://localhost:8080/"
        },
        "id": "vLp76O8bL1Fr",
        "outputId": "eb146649-e1e8-4003-9b22-ae8a3aaf6e6c"
      },
      "execution_count": null,
      "outputs": [
        {
          "output_type": "stream",
          "name": "stdout",
          "text": [
            "Training completed.\n"
          ]
        }
      ]
    },
    {
      "cell_type": "code",
      "source": [
        "#Find best fit line equation\n",
        "\n",
        "m = model.coef_\n",
        "c = model.intercept_\n",
        "\n",
        "print('Line of regression : y = {0} x + {1}'.format(m[0], c))"
      ],
      "metadata": {
        "colab": {
          "base_uri": "https://localhost:8080/"
        },
        "id": "m9JfXlasMBnq",
        "outputId": "d169350c-58fc-4b22-c732-165f71260c54"
      },
      "execution_count": null,
      "outputs": [
        {
          "output_type": "stream",
          "name": "stdout",
          "text": [
            "Line of regression : y = 9.91065648064224 x + 2.018160041434662\n"
          ]
        }
      ]
    },
    {
      "cell_type": "code",
      "source": [
        "#Plotting for the line equation\n",
        "y = m*X + c\n",
        "plt.scatter(X, Y)\n",
        "plt.plot(X, y,color='green');\n",
        "plt.show()"
      ],
      "metadata": {
        "colab": {
          "base_uri": "https://localhost:8080/",
          "height": 265
        },
        "id": "o03Mse9PMZFP",
        "outputId": "3b43f94e-ee5c-4ca1-d8b0-622945fcce30"
      },
      "execution_count": null,
      "outputs": [
        {
          "output_type": "display_data",
          "data": {
            "text/plain": [
              "<Figure size 432x288 with 1 Axes>"
            ],
            "image/png": "[encoded data removed]"
          },
          "metadata": {
            "needs_background": "light"
          }
        }
      ]
    },
    {
      "cell_type": "code",
      "source": [
        "#Model Prediction \n",
        "y_pred = model.predict(x_test)"
      ],
      "metadata": {
        "id": "_cR9Up6sM6cM"
      },
      "execution_count": null,
      "outputs": []
    },
    {
      "cell_type": "code",
      "source": [
        "#Testing the model with our own data\n",
        "hours = 9.25\n",
        "hours = [[hours]]\n",
        "result = model.predict(hours)\n",
        "print(\"No of Hours = {}\".format(hours[0][0]))\n",
        "print(\"Predicted Score = {}\".format(result[0]))"
      ],
      "metadata": {
        "colab": {
          "base_uri": "https://localhost:8080/"
        },
        "id": "J25X-xHTNPF3",
        "outputId": "f3126ce9-4e17-4213-bc00-f82e5b08a75d"
      },
      "execution_count": null,
      "outputs": [
        {
          "output_type": "stream",
          "name": "stdout",
          "text": [
            "No of Hours = 9.25\n",
            "Predicted Score = 93.69173248737539\n"
          ]
        },
        {
          "output_type": "stream",
          "name": "stderr",
          "text": [
            "/usr/local/lib/python3.7/dist-packages/sklearn/base.py:451: UserWarning: X does not have valid feature names, but LinearRegression was fitted with feature names\n",
            "  \"X does not have valid feature names, but\"\n"
          ]
        }
      ]
    },
    {
      "cell_type": "markdown",
      "source": [
        "#**Result**\n",
        "##Here I used Linear Regression to predict the score percentage of student who studied **9.25 hrs/day** and the outcome is student may get around **93.69%**.\n",
        "\n",
        "#**Thank you**"
      ],
      "metadata": {
        "id": "6S8iVgzwObop"
      }
    }
  ],
  "metadata": {
    "colab": {
      "collapsed_sections": [],
      "provenance": [],
      "authorship_tag": "ABX9TyPUQP8K9JqhxVIMJsHmWCHd",
      "include_colab_link": true
    },
    "kernelspec": {
      "display_name": "Python 3",
      "name": "python3"
    },
    "language_info": {
      "name": "python"
    }
  },
  "nbformat": 4,
  "nbformat_minor": 0
}