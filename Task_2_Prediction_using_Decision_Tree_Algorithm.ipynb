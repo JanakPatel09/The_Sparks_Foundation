{
  "nbformat": 4,
  "nbformat_minor": 0,
  "metadata": {
    "colab": {
      "provenance": [],
      "authorship_tag": "ABX9TyOqoWu88C/fKToJ0ECHPAn4",
      "include_colab_link": true
    },
    "kernelspec": {
      "name": "python3",
      "display_name": "Python 3"
    },
    "language_info": {
      "name": "python"
    }
  },
  "cells": [
    {
      "cell_type": "markdown",
      "metadata": {
        "id": "view-in-github",
        "colab_type": "text"
      },
      "source": [
        "<a href=\"https://colab.research.google.com/github/JanakPatel09/The_Sparks_Foundation/blob/main/Task_2_Prediction_using_Decision_Tree_Algorithm.ipynb\" target=\"_parent\"><img src=\"https://colab.research.google.com/assets/colab-badge.svg\" alt=\"Open In Colab\"/></a>"
      ]
    },
    {
      "cell_type": "markdown",
      "source": [
        "# **Author - Janak Patel**\n",
        "## Task 2 - Prediction using Decision Tree Algorithm\n",
        "## GRIP @ The Sparks Foundation\n",
        "\n",
        "### For the given Iris dataset, I will create the Decision Tree Classifier and Visualize it graphically. The purpose is if we feed any new data to this classifier, it would be able to predict the right class accordingly."
      ],
      "metadata": {
        "id": "o2_4JRPhfwI4"
      }
    },
    {
      "cell_type": "code",
      "execution_count": 56,
      "metadata": {
        "id": "dBpFq51CfuVt"
      },
      "outputs": [],
      "source": [
        "# Import Libraries\n",
        "\n",
        "import pandas as pd\n",
        "import numpy as np\n",
        "import matplotlib.pyplot as plt"
      ]
    },
    {
      "cell_type": "code",
      "source": [
        "# Load the dataset\n",
        "\n",
        "dataset = pd.read_csv('Iris.csv')"
      ],
      "metadata": {
        "id": "a1LqL8C_h9jA"
      },
      "execution_count": 57,
      "outputs": []
    },
    {
      "cell_type": "code",
      "source": [
        "# Summarize the dataset\n",
        "\n",
        "print(dataset.shape)\n",
        "print(dataset.describe())\n",
        "print(dataset.head())"
      ],
      "metadata": {
        "colab": {
          "base_uri": "https://localhost:8080/"
        },
        "id": "zBaiZ9XViVGP",
        "outputId": "ab8228e3-c5e0-4288-c73f-d2fa3779d67a"
      },
      "execution_count": 58,
      "outputs": [
        {
          "output_type": "stream",
          "name": "stdout",
          "text": [
            "(150, 6)\n",
            "               Id  SepalLengthCm  SepalWidthCm  PetalLengthCm  PetalWidthCm\n",
            "count  150.000000     150.000000    150.000000     150.000000    150.000000\n",
            "mean    75.500000       5.843333      3.054000       3.758667      1.198667\n",
            "std     43.445368       0.828066      0.433594       1.764420      0.763161\n",
            "min      1.000000       4.300000      2.000000       1.000000      0.100000\n",
            "25%     38.250000       5.100000      2.800000       1.600000      0.300000\n",
            "50%     75.500000       5.800000      3.000000       4.350000      1.300000\n",
            "75%    112.750000       6.400000      3.300000       5.100000      1.800000\n",
            "max    150.000000       7.900000      4.400000       6.900000      2.500000\n",
            "   Id  SepalLengthCm  SepalWidthCm  PetalLengthCm  PetalWidthCm      Species\n",
            "0   1            5.1           3.5            1.4           0.2  Iris-setosa\n",
            "1   2            4.9           3.0            1.4           0.2  Iris-setosa\n",
            "2   3            4.7           3.2            1.3           0.2  Iris-setosa\n",
            "3   4            4.6           3.1            1.5           0.2  Iris-setosa\n",
            "4   5            5.0           3.6            1.4           0.2  Iris-setosa\n"
          ]
        }
      ]
    },
    {
      "cell_type": "code",
      "source": [
        "# Input X and Output Y\n",
        "\n",
        "X = dataset.iloc[:,1:-1].values\n",
        "Y = dataset.iloc[:,-1].values"
      ],
      "metadata": {
        "id": "SlmKqKCGisU3"
      },
      "execution_count": 59,
      "outputs": []
    },
    {
      "cell_type": "code",
      "source": [
        "# Splitting Dataset into Train & Test\n",
        "\n",
        "from sklearn.model_selection import train_test_split\n",
        "X_train, X_test, Y_train, Y_test = train_test_split(X, Y, test_size = 0.20, random_state = 0)\n",
        "print(X_train.shape)\n",
        "print(X_test.shape)"
      ],
      "metadata": {
        "colab": {
          "base_uri": "https://localhost:8080/"
        },
        "id": "SUJrbccil7qq",
        "outputId": "b5abd6d6-8fc9-4636-a757-565178aafc71"
      },
      "execution_count": 60,
      "outputs": [
        {
          "output_type": "stream",
          "name": "stdout",
          "text": [
            "(120, 4)\n",
            "(30, 4)\n"
          ]
        }
      ]
    },
    {
      "cell_type": "code",
      "source": [
        "# Finding best max_depth Value\n",
        "\n",
        "accuracy = []\n",
        "from sklearn.tree import DecisionTreeClassifier\n",
        "from sklearn.metrics import accuracy_score\n",
        "\n",
        "for i in range(1, 10):\n",
        "    model = DecisionTreeClassifier(max_depth = i, random_state = 0)\n",
        "    model.fit(X_train, Y_train)\n",
        "    pred = model.predict(X_test)\n",
        "    score = accuracy_score(Y_test, pred)\n",
        "    accuracy.append(score)\n",
        "\n",
        "plt.figure(figsize=(12, 6))\n",
        "plt.plot(range(1, 10), accuracy, color='red', linestyle='dashed', marker='o',\n",
        "         markerfacecolor='blue', markersize=10)\n",
        "plt.title('Finding best Max_Depth')\n",
        "plt.xlabel('Pred')\n",
        "plt.ylabel('Score')"
      ],
      "metadata": {
        "colab": {
          "base_uri": "https://localhost:8080/",
          "height": 421
        },
        "id": "TILc2TKAmSPn",
        "outputId": "2514d549-7a83-4976-e9fc-0b97fe2d2940"
      },
      "execution_count": 61,
      "outputs": [
        {
          "output_type": "execute_result",
          "data": {
            "text/plain": [
              "Text(0, 0.5, 'Score')"
            ]
          },
          "metadata": {},
          "execution_count": 61
        },
        {
          "output_type": "display_data",
          "data": {
            "text/plain": [
              "<Figure size 864x432 with 1 Axes>"
            ],
            "image/png": "[encoded data removed]"
          },
          "metadata": {
            "needs_background": "light"
          }
        }
      ]
    },
    {
      "cell_type": "code",
      "source": [
        "# Training\n",
        "\n",
        "from sklearn.tree import DecisionTreeClassifier\n",
        "model = DecisionTreeClassifier(criterion = 'entropy',max_depth = 3, random_state = 0)\n",
        "model.fit(X_train,Y_train)\n",
        "print('Training completed.')"
      ],
      "metadata": {
        "colab": {
          "base_uri": "https://localhost:8080/"
        },
        "id": "X9Kql5FKmvvW",
        "outputId": "c2252c65-5a96-425f-a132-08172f3dbbfd"
      },
      "execution_count": 62,
      "outputs": [
        {
          "output_type": "stream",
          "name": "stdout",
          "text": [
            "Training completed.\n"
          ]
        }
      ]
    },
    {
      "cell_type": "code",
      "source": [
        "# Prediction\n",
        "\n",
        "y_pred = model.predict(X_test)\n",
        "print(np.concatenate((y_pred.reshape(len(y_pred),1), Y_test.reshape(len(Y_test),1)),1))"
      ],
      "metadata": {
        "colab": {
          "base_uri": "https://localhost:8080/"
        },
        "id": "EbZ6EC80m4H4",
        "outputId": "0b00cb6b-802a-4f19-d01d-4b27a5ec88eb"
      },
      "execution_count": 63,
      "outputs": [
        {
          "output_type": "stream",
          "name": "stdout",
          "text": [
            "[['Iris-virginica' 'Iris-virginica']\n",
            " ['Iris-versicolor' 'Iris-versicolor']\n",
            " ['Iris-setosa' 'Iris-setosa']\n",
            " ['Iris-virginica' 'Iris-virginica']\n",
            " ['Iris-setosa' 'Iris-setosa']\n",
            " ['Iris-virginica' 'Iris-virginica']\n",
            " ['Iris-setosa' 'Iris-setosa']\n",
            " ['Iris-versicolor' 'Iris-versicolor']\n",
            " ['Iris-versicolor' 'Iris-versicolor']\n",
            " ['Iris-versicolor' 'Iris-versicolor']\n",
            " ['Iris-virginica' 'Iris-virginica']\n",
            " ['Iris-versicolor' 'Iris-versicolor']\n",
            " ['Iris-versicolor' 'Iris-versicolor']\n",
            " ['Iris-versicolor' 'Iris-versicolor']\n",
            " ['Iris-versicolor' 'Iris-versicolor']\n",
            " ['Iris-setosa' 'Iris-setosa']\n",
            " ['Iris-versicolor' 'Iris-versicolor']\n",
            " ['Iris-versicolor' 'Iris-versicolor']\n",
            " ['Iris-setosa' 'Iris-setosa']\n",
            " ['Iris-setosa' 'Iris-setosa']\n",
            " ['Iris-virginica' 'Iris-virginica']\n",
            " ['Iris-versicolor' 'Iris-versicolor']\n",
            " ['Iris-setosa' 'Iris-setosa']\n",
            " ['Iris-setosa' 'Iris-setosa']\n",
            " ['Iris-versicolor' 'Iris-virginica']\n",
            " ['Iris-setosa' 'Iris-setosa']\n",
            " ['Iris-setosa' 'Iris-setosa']\n",
            " ['Iris-versicolor' 'Iris-versicolor']\n",
            " ['Iris-versicolor' 'Iris-versicolor']\n",
            " ['Iris-setosa' 'Iris-setosa']]\n"
          ]
        }
      ]
    },
    {
      "cell_type": "code",
      "source": [
        "# Accuracy Score\n",
        "\n",
        "from sklearn.metrics import accuracy_score\n",
        "print(\"Accuracy of the Model: {0}%\".format(accuracy_score(Y_test, y_pred)*100))"
      ],
      "metadata": {
        "colab": {
          "base_uri": "https://localhost:8080/"
        },
        "id": "6yU7CZQCm9Tp",
        "outputId": "5a3b78f1-d266-47fb-adfa-fd7d51022bba"
      },
      "execution_count": 64,
      "outputs": [
        {
          "output_type": "stream",
          "name": "stdout",
          "text": [
            "Accuracy of the Model: 96.66666666666667%\n"
          ]
        }
      ]
    },
    {
      "cell_type": "code",
      "source": [
        "# Data Visualization\n",
        "# Scatter plot of data based on Sepal Length and Width features\n",
        "sns.FacetGrid(dataset,hue='Species').map(plt.scatter,'SepalLengthCm','SepalWidthCm').add_legend()\n",
        "plt.show()\n",
        "\n",
        "# Scatter plot of data based on Petal Length and Width features\n",
        "sns.FacetGrid(dataset,hue='Species').map(plt.scatter,'PetalLengthCm','PetalWidthCm').add_legend()\n",
        "plt.show()"
      ],
      "metadata": {
        "colab": {
          "base_uri": "https://localhost:8080/",
          "height": 433
        },
        "id": "gEVb20KdnR2S",
        "outputId": "87664d80-ae8c-4e98-cb36-8f31a0294afb"
      },
      "execution_count": 65,
      "outputs": [
        {
          "output_type": "display_data",
          "data": {
            "text/plain": [
              "<Figure size 319.25x216 with 1 Axes>"
            ],
            "image/png": "[encoded data removed]"
          },
          "metadata": {
            "needs_background": "light"
          }
        },
        {
          "output_type": "display_data",
          "data": {
            "text/plain": [
              "<Figure size 319.25x216 with 1 Axes>"
            ],
            "image/png": "[encoded data removed]"
          },
          "metadata": {
            "needs_background": "light"
          }
        }
      ]
    }
  ]
}